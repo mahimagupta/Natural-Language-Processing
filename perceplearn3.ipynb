{
 "cells": [
  {
   "cell_type": "code",
   "execution_count": 14,
   "metadata": {},
   "outputs": [],
   "source": [
    "import os\n",
    "import sys\n",
    "import glob\n",
    "import collections\n",
    "import math\n",
    "import json\n",
    "import re"
   ]
  },
  {
   "cell_type": "code",
   "execution_count": 15,
   "metadata": {},
   "outputs": [],
   "source": [
    "files = glob.glob(os.path.join(\"op_spam_training_data\", '*/*/*/*.txt'))"
   ]
  },
  {
   "cell_type": "code",
   "execution_count": 16,
   "metadata": {},
   "outputs": [
    {
     "data": {
      "text/plain": [
       "1280"
      ]
     },
     "execution_count": 16,
     "metadata": {},
     "output_type": "execute_result"
    }
   ],
   "source": [
    "len(files)"
   ]
  },
  {
   "cell_type": "code",
   "execution_count": 17,
   "metadata": {},
   "outputs": [],
   "source": [
    "wordcount ={}\n",
    "\n",
    "# files = glob.glob(os.path.join(sys.argv[1], '*/*/*/*.txt'))\n",
    "test_by_class = collections.defaultdict(list)\n",
    "train_by_class = collections.defaultdict(list)\n",
    "\n",
    "for f in files:\n",
    "    class1, class2, fold, filename = f.split('/')[-4:]\n",
    "    if fold == 'fold1':\n",
    "        test_by_class[class1+class2].append(f)\n",
    "    else:\n",
    "        train_by_class[class1 + class2].append(f)"
   ]
  },
  {
   "cell_type": "code",
   "execution_count": 23,
   "metadata": {},
   "outputs": [],
   "source": [
    "a=train_by_class.keys()\n",
    "b=train_by_class.values()\n",
    "\n",
    "words=[]\n",
    "class1 = \"\"\n",
    "class2 = \"\"\n",
    "train_wcs = []\n",
    "for key in train_by_class.keys():\n",
    "        # x = train_by_class[a]\n",
    "    for y in train_by_class[key]:\n",
    "        #totalsize += 1\n",
    "            #totalsize = calculateTotalSize()\n",
    "        class1, class2, fold, filename = y.split('/')[-4:]\n",
    "\n",
    "        # class1 = class1.split(\"_\")[0]\n",
    "        # class2 = class2.split(\"_\")[0]\n",
    "\n",
    "        fil = open(y, \"r\")\n",
    "        data = fil.read()\n",
    "    # print(data)\n",
    "        data = re.sub('[^a-zA-Z]+', ' ', data)\n",
    "        data = data.lower()\n",
    "        words_list = data.split()\n",
    "        words =[]\n",
    "        stop_words = ['a', 'an', 'and', 'are', 'as', 'at', 'be', 'by', 'for', 'from', 'has', 'he', 'i', 'in', 'is', 'it', 'its', 'of', 'on', 'that', 'the', 'this', 'to', 'was', 'were', 'will', 'with']\n",
    "        for word in words_list:\n",
    "            if (word not in stop_words):\n",
    "                words.append(word)\n",
    "            #print(words)\n",
    "        for everyword in words:\n",
    "            if word not in wordcount:\n",
    "                wordcount[word] = 0\n",
    "            wordcount[word] += 1\n",
    "#             print(wordcount)\n",
    "            train_wcs.append(wordcount)"
   ]
  },
  {
   "cell_type": "code",
   "execution_count": 33,
   "metadata": {},
   "outputs": [],
   "source": [
    "unique_words = set()\n",
    "for twc in train_wcs:\n",
    "    unique_words = unique_words.union(twc.keys())"
   ]
  },
  {
   "cell_type": "code",
   "execution_count": 39,
   "metadata": {},
   "outputs": [],
   "source": [
    "unique_ns_words = sorted(unique_words - set(stop_words))"
   ]
  },
  {
   "cell_type": "code",
   "execution_count": 40,
   "metadata": {},
   "outputs": [
    {
     "name": "stdout",
     "output_type": "stream",
     "text": [
      "394\n"
     ]
    }
   ],
   "source": [
    "print(len(unique_ns_words))"
   ]
  }
 ],
 "metadata": {
  "kernelspec": {
   "display_name": "Python 3",
   "language": "python",
   "name": "python3"
  },
  "language_info": {
   "codemirror_mode": {
    "name": "ipython",
    "version": 3
   },
   "file_extension": ".py",
   "mimetype": "text/x-python",
   "name": "python",
   "nbconvert_exporter": "python",
   "pygments_lexer": "ipython3",
   "version": "3.6.7"
  }
 },
 "nbformat": 4,
 "nbformat_minor": 2
}
